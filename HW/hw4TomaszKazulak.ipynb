{
 "cells": [
  {
   "cell_type": "markdown",
   "metadata": {},
   "source": [
    "# Homework 4: Differentiation and Integration"
   ]
  },
  {
   "cell_type": "code",
   "execution_count": 1,
   "metadata": {},
   "outputs": [],
   "source": [
    "# Import packages\n",
    "import numpy as np\n",
    "import matplotlib.pyplot as plt\n",
    "from matplotlib.animation import FuncAnimation, PillowWriter"
   ]
  },
  {
   "cell_type": "markdown",
   "metadata": {},
   "source": [
    "## Question 1: Write your own integration and differentiation routine \n",
    "(points - 0.5)\n",
    "\n",
    "Write a function using your favourite algorithm to integrate a function from $a$ to $b$ and to take derivative at a specific point $x_0$. Use these functions in the solution of the next problem."
   ]
  },
  {
   "cell_type": "code",
   "execution_count": 42,
   "metadata": {},
   "outputs": [
    {
     "name": "stdout",
     "output_type": "stream",
     "text": [
      "Integration simple sin(x) = \t -2.1745029821912398e-17\n",
      "\n",
      "Integration simple x^2 = \t 332.84521102905273\n",
      "\n",
      "Derivative simple sin(x) = \t -0.00048828121123278834\n",
      "Derivative advanced sin(x) = \t -2.842170943040401e-14\n",
      "\n",
      "Derivative simple x^2 = \t 2.0009765625\n",
      "Derivative advanced x^2 = \t 2.0\n",
      "\n",
      "\tThanks for your attention!\n",
      "\n",
      "Integration simple x^2 = \t -1.963968889966182e-16\n",
      "Integration simpson x^2 = \t 0.0\n"
     ]
    },
    {
     "data": {
      "image/png": "[encoded data removed]",
      "text/plain": [
       "<Figure size 432x288 with 1 Axes>"
      ]
     },
     "metadata": {
      "needs_background": "light"
     },
     "output_type": "display_data"
    }
   ],
   "source": [
    "def integrate(f, a, b, n=1024): # change to n=1024 for better accuracy\n",
    "    dx = (b-a)/n\n",
    "    res = 0\n",
    "    for i in np.arange(a,b,dx):\n",
    "        res += dx * f(i)\n",
    "    return res\n",
    "\n",
    "def derivative(f, x0, dx=0.01):\n",
    "    return (f(x0 + dx) - f(x0))/dx\n",
    "\n",
    "def integrate_fav(f, a, b, n=1024):    \n",
    "    dx = (b-a)/n\n",
    "    res = 0\n",
    "    fa = f(a)\n",
    "    fn = f(a+dx)\n",
    "    fb = f(a+dx+dx)\n",
    "    #print(fa,fn,fb)\n",
    "    for i in np.arange(a,b,2*dx):\n",
    "        #print(\"fa=\",fa,\"\\tfn=\",fn,\"\\tfb=\",fb)\n",
    "        plt.plot([i, i+dx, i+2*dx],[fa, fn, fb],\"x\")\n",
    "        res += (b-a)/6 * (fa + 4*fn + fb)\n",
    "        fa = fb\n",
    "        fn = f(i+3*dx)\n",
    "        fb = f(i+4*dx)\n",
    "        \n",
    "    #print(dx, a, b, i)\n",
    "    func = (lambda x : f(x))(np.arange(a,b+dx,dx))\n",
    "    plt.plot(np.arange(a,b+dx,dx),func)\n",
    "    return res\n",
    "\n",
    "\"\"\"def integrate_fav(f, a, b, TOL=2**(-4)):    \n",
    "    def integrate_(f, a, fa, b, fb, TOL):\n",
    "        n = (a+b)/2\n",
    "        fn = f(n)\n",
    "        res = (b-a)/6 * (fa + 4*fn + fb)\n",
    "        print(\"res:\", res, \"\\ttol:\", TOL)\n",
    "        if res < TOL:\n",
    "            return res\n",
    "        else:\n",
    "            return integrate_(f, a, fa, n, fn, TOL) \\\n",
    "            + integrate_(f, n, fn, b, fb, TOL)\n",
    "    \n",
    "    return integrate_(f, a, f(a), b, f(b), TOL)\"\"\"\n",
    "\n",
    "def derivative_fav(f, x0, dx=2**(-4)):\n",
    "    return 1/12/dx * \\\n",
    "        (-f(x0+dx+dx)\n",
    "         -8*f(x0-dx)\n",
    "         +8*f(x0+dx)\n",
    "         +f(x0-dx-dx))\n",
    "\n",
    "print(\"Integration simple sin(x) = \\t\", integrate(np.sin,0, 2*np.pi,2**10))\n",
    "#print(\"Integration simpson sin(x) = \\t\", integrate_fav(np.sin,0, 2*np.pi, 2**(10)))\n",
    "print(\"\\nIntegration simple x^2 = \\t\", integrate((lambda x : x**2),0, 10, 2**(10)))\n",
    "#print(\"Integration simpson x^2 = \\t\", integrate_fav((lambda x : x**2),0, 10, 2**(4)))\n",
    "\n",
    "print(\"\\nDerivative simple sin(x) = \\t\", derivative(np.sin, 0.5*np.pi,2**(-10)))\n",
    "print(\"Derivative advanced sin(x) = \\t\", derivative_fav(np.sin, 0.5*np.pi,2**(-10)))\n",
    "print(\"\\nDerivative simple x^2 = \\t\", derivative((lambda x : x**2), 1, 2**(-10)))\n",
    "print(\"Derivative advanced x^2 = \\t\", derivative_fav((lambda x : x**2), 1, 2**(-10)))\n",
    "\n",
    "print(\"\\n\\tThanks for your attention!\")\n",
    "fun = lambda x : x**2-10*x*np.e**(-1/x)\n",
    "fun = np.sin\n",
    "x_min = 0\n",
    "x_max = 2*np.pi\n",
    "print(\"\\nIntegration simple x^2 = \\t\", integrate(fun,x_min, x_max, 2**(16)))\n",
    "print(\"Integration simpson x^2 = \\t\", integrate_fav(fun, x_min, x_max, 2**2))\n"
   ]
  },
  {
   "cell_type": "markdown",
   "metadata": {},
   "source": [
    "## Question 2: Quantum Harmonic Oscillator\n",
    "---\n",
    "(points - 2.5)\n",
    "\n",
    "Quantum harmonic oscillator are described by the Hamiltonian,\n",
    "$$\n",
    "    H = \\frac{p^2}{2} + \\frac{1}{2}x^2\n",
    "$$\n",
    "The eigen functions are given by the formula (with $\\hbar=1$, and also $m=\\omega=1$ for simplicity, general expressions can be found in wikipedia),\n",
    "$$\n",
    "\\psi_n(x)  = \\frac{1}{\\sqrt{2^n n!}} \\left(\\frac{1}{\\pi}\\right)^{1/4}e^{-\\frac{x^2}{2}}H_n(x)\n",
    "$$\n",
    "where the Hermite polynomials are given as $H_n(x) = (-1)^n e^{x^2}\\frac{d^n}{dx^n}(e^{-x^2})$.\n",
    "\n",
    "  - 2.1) Find the first five Hermite polynomials. (use good old pen and paper! unless you are already familiar with `sympy`).\n",
    "Fill up with the expressions of $H_n$ s\n",
    "$$H_0(x) = \\\\\n",
    "\\cdots\n",
    "$$"
   ]
  },
  {
   "cell_type": "markdown",
   "metadata": {},
   "source": [
    "- 2.2) Plot the first five eigenfunctions on top of  the harmonic potential (second term in the Hamiltonian) shifted by their respective energy, $E_n = (n+\\frac{1}{2})$. (the figure should look something like ![](https://upload.wikimedia.org/wikipedia/commons/9/9e/HarmOsziFunktionen.png))\n"
   ]
  },
  {
   "cell_type": "code",
   "execution_count": 196,
   "metadata": {},
   "outputs": [],
   "source": [
    "def H0(x):\n",
    "    return (1/np.pi)**(1/4) * np.e**(-x**2/2)\n",
    "def H1(x):\n",
    "    return H0(x) * 2*x/np.sqrt(2)\n",
    "def H2(x):\n",
    "    return H0(x) * (4*x**2 - 2)/np.sqrt(8)\n",
    "def H3(x):\n",
    "    return H0(x) * (8*x**3 - 12*x)/np.sqrt(8*6)\n",
    "def H4(x):\n",
    "    return H0(x) * (16*x**4 - 48*x**2 + 12)/np.sqrt(2**4*2*3*4)\n",
    "\n",
    "H_all = [H0, H1, H2, H3, H4]"
   ]
  },
  {
   "cell_type": "code",
   "execution_count": 197,
   "metadata": {},
   "outputs": [
    {
     "data": {
      "image/png": "[encoded data removed]",
      "text/plain": [
       "<Figure size 432x288 with 1 Axes>"
      ]
     },
     "metadata": {
      "needs_background": "light"
     },
     "output_type": "display_data"
    }
   ],
   "source": [
    "# plotting\n",
    "x_max = 4\n",
    "x_min = -x_max\n",
    "xx = np.linspace(x_min, x_max, 100)\n",
    "\n",
    "plt.plot(xx, (lambda x : 1/2* x**2)(xx))\n",
    "\n",
    "En = 1/2\n",
    "for H in H_all:\n",
    "    plt.plot(xx, H(xx)+En)\n",
    "    En += 1"
   ]
  },
  {
   "cell_type": "markdown",
   "metadata": {},
   "source": [
    " - 2.3) Choose one of the eigen function and calculate $\\int_{-\\infty}^{\\infty}|\\psi|^2 dx$. Check that it is close to 1.\n",
    "\n",
    "For the integration with infinities choose some large value where $\\psi$ goes to zero. Try increasing the value to see if the answers change too much, if yes then you should choose a value larger than the previous one.\n",
    "\n",
    "**Bonus:** Can you think of another way to do such integral. Think about substitution."
   ]
  },
  {
   "cell_type": "code",
   "execution_count": 194,
   "metadata": {},
   "outputs": [
    {
     "name": "stdout",
     "output_type": "stream",
     "text": [
      "<function H0 at 0x000001F5D3D86DC0> : 1.0023437018294243 \t 0.9999999999999997\n",
      "<function H1 at 0x000001F5D3EF24C0> : 2.0386204714206347e-108 \t 0.9999999999999997\n",
      "<function H2 at 0x000001F5D3EF2550> : 0.9994443763225374 \t 1.0000000000000002\n",
      "<function H3 at 0x000001F5D3EF23A0> : 8.80279717260216e-104 \t 1.0000000000000002\n",
      "<function H4 at 0x000001F5D3EF2EE0> : 1.0001906649849732 \t 1.0\n"
     ]
    }
   ],
   "source": [
    "for H in H_all: # some errors in integration!\n",
    "    print(H, \":\", \n",
    "    integrate_fav((lambda x : H(x)*H(x)), -2**4, 2**4), \"\\t\",\n",
    "    integrate((lambda x : H(x)*H(x)), -2**4, 2**4))"
   ]
  },
  {
   "cell_type": "markdown",
   "metadata": {},
   "source": [
    " - 2.4) Choose the ground state wave function. Find $\\langle x \\rangle$, $\\langle p \\rangle$, $\\langle x^2 \\rangle$ and $\\langle p^2 \\rangle$\n",
    "\n",
    "*Hint:* $\\langle \\mathcal{O} \\rangle = \\int_{-\\infty}^{\\infty} dx \\psi^{*}(x)\\mathcal{O}\\psi(x)$; $p$ should be replaced by $-i\\frac{d}{dx}$ and $p^2 =  p p = (-i\\frac{d}{dx})(-i\\frac{d}{dx}) = -\\frac{d^2}{dx^2}$\n"
   ]
  },
  {
   "cell_type": "code",
   "execution_count": 193,
   "metadata": {},
   "outputs": [
    {
     "data": {
      "text/plain": [
       "'\\nd_x_b = integrate(lambda x : np.conj(H0(x))*x*H0(x), -2**4, 2**4)\\nd_xx_b = integrate(lambda x : np.conj(H0(x))*x*x*H0(x), -2**4, 2**4)\\np = lambda x : -1j*derivative_fav((lambda x : x), x, dx=0.002)\\npp = lambda x : -derivative_fav(derivative_fav((lambda x : x), x, dx=0.002), x, dx=0.002)\\nd_p_b = integrate(lambda x : np.conj(H0(x))*p(x)*H0(x), -2**4, 2**4)\\nd_pp_b = integrate(lambda x : np.conj(H0(x))*pp(x)*H0(x), -2**4, 2**4)\\n\\nprint(d_x_b,\"\\n\", d_xx_b, \"\\n\", d_p_b, \"\\n\", d_pp_b)\\n'"
      ]
     },
     "execution_count": 193,
     "metadata": {},
     "output_type": "execute_result"
    }
   ],
   "source": [
    "\n",
    "# I don't understand it fully. Need to investigate.\n",
    "'''\n",
    "d_x_b = integrate(lambda x : np.conj(H0(x))*x*H0(x), -2**4, 2**4)\n",
    "d_xx_b = integrate(lambda x : np.conj(H0(x))*x*x*H0(x), -2**4, 2**4)\n",
    "p = lambda x : -1j*derivative_fav((lambda x : x), x, dx=0.002)\n",
    "pp = lambda x : -derivative_fav(derivative_fav((lambda x : x), x, dx=0.002), x, dx=0.002)\n",
    "d_p_b = integrate(lambda x : np.conj(H0(x))*p(x)*H0(x), -2**4, 2**4)\n",
    "d_pp_b = integrate(lambda x : np.conj(H0(x))*pp(x)*H0(x), -2**4, 2**4)\n",
    "\n",
    "print(d_x_b,\"\\n\", d_xx_b, \"\\n\", d_p_b, \"\\n\", d_pp_b)\n",
    "'''"
   ]
  },
  {
   "cell_type": "markdown",
   "metadata": {},
   "source": [
    " - 2.5) Calculate $\\Delta_x \\Delta_p = \\sqrt{(\\langle x^2\\rangle - \\langle x\\rangle^2)(\\langle p^2\\rangle - \\langle p\\rangle^2)}$. If your code is correct you should get the value $1/2$. The ground state reaches the Heisenberg Uncertainty limit (remember $\\hbar=1$).\n",
    "\n",
    "**Bonus:** Pick another eigen function and show that it satisfies the Heisenberg Uncertainty relation but the inequality is strict."
   ]
  },
  {
   "cell_type": "code",
   "execution_count": null,
   "metadata": {},
   "outputs": [],
   "source": []
  },
  {
   "cell_type": "markdown",
   "metadata": {},
   "source": [
    "#### Coherent States\n",
    "Coherent states for the quantum harmonic oscillator are the eigen states of the annihilation operator. $\\hat{a}|\\alpha\\rangle = \\alpha|\\alpha\\rangle$. where $\\alpha$ is the eigen value. For this problem take $\\alpha = \\frac{1}{\\sqrt{2}}$. Then the state in position space have the form\n",
    "$$\n",
    "\\psi(x,t) = \\left(\\frac{1}{\\pi}\\right)^{1/4}\\exp \\left[-\\frac{1}{2}\\left(\\left(x - \\cos t\\right)^2  + i \\left(\\sin t \\cos  t -  t - x\\sin t\\right)\\right)\\right]\n",
    "$$\n",
    "\n",
    "- 2.6) Define the wave function below"
   ]
  },
  {
   "cell_type": "code",
   "execution_count": null,
   "metadata": {},
   "outputs": [],
   "source": [
    "def coherent_state(x,t):\n",
    "    pass"
   ]
  },
  {
   "cell_type": "markdown",
   "metadata": {},
   "source": [
    "- 2.7) Take a range of time starting from 0 to $4\\pi$. For each value of time calculate $\\langle x \\rangle$ and $\\langle p \\rangle$ for the above wave function. Plot them. Plot $\\sin(t)$ and $\\cos(t)$ on the same figure."
   ]
  },
  {
   "cell_type": "code",
   "execution_count": null,
   "metadata": {},
   "outputs": [],
   "source": []
  },
  {
   "cell_type": "markdown",
   "metadata": {},
   "source": [
    "Coherent states behave exactly like a classical particle in a harmonic potential. \n",
    "\n",
    "**Bonus:** These states also saturates the uncertainty principle($\\Delta_x\\Delta_p = \\frac{1}{2}$), along with $\\Delta_x = \\Delta_p = \\frac{1}{\\sqrt{2}}$ (symmetric spread in space and momentum).\n",
    "\n",
    "Coherent states are used in quantum optics experiments. A generalization of these states(assymetric spread in space and momentum but saturates the uncertainty relation) known as squeezed coherent states are used in detecting gravitational waves, in atomic clocks as well as in quantum information processing."
   ]
  },
  {
   "cell_type": "markdown",
   "metadata": {},
   "source": [
    "Here is a sample code to animate the probability density of the coherent state. Familiarise yourself with the code. Add x and y labels; play with different parameters."
   ]
  },
  {
   "cell_type": "code",
   "execution_count": null,
   "metadata": {},
   "outputs": [],
   "source": [
    "# Set up the figure\n",
    "fig, ax = plt.subplots()\n",
    "x = np.linspace(-4, 4, 100) \n",
    "line, = ax.plot(x, np.abs(coherent_state(x, 0))**2)  # Initialize plot with t = 0\n",
    "# the plot does not have labels. add them\n",
    "\n",
    "# Function to update the plot for each frame\n",
    "def update(t):\n",
    "    y = np.abs(coherent_state(x, t))**2 \n",
    "    line.set_ydata(y)\n",
    "    return line,\n",
    "\n",
    "# Create the animation and save it\n",
    "ani = FuncAnimation(fig, update, frames=np.linspace(0, 4*np.pi, 100), interval=40, blit=True)\n",
    "ani.save('coherent_state.gif', writer=PillowWriter(fps=30))"
   ]
  },
  {
   "cell_type": "markdown",
   "metadata": {},
   "source": [
    "**Bonus:** Find out a simple wave function for squeezed states ([wikipedia](https://en.wikipedia.org/wiki/Squeezed_coherent_state#Mathematical_definition)) and see how its probability changes with time using the same code as above i.e. replace `coherent_state` with your new wave function."
   ]
  },
  {
   "cell_type": "code",
   "execution_count": null,
   "metadata": {},
   "outputs": [],
   "source": []
  }
 ],
 "metadata": {
  "kernelspec": {
   "display_name": "base",
   "language": "python",
   "name": "python3"
  },
  "language_info": {
   "codemirror_mode": {
    "name": "ipython",
    "version": 3
   },
   "file_extension": ".py",
   "mimetype": "text/x-python",
   "name": "python",
   "nbconvert_exporter": "python",
   "pygments_lexer": "ipython3",
   "version": "3.9.7"
  },
  "scheduler": {
   "date": "2024-10-25 09:15:00",
   "priorityDeadline": "2024-10-20 20:00:00",
   "problems": [
    {
     "assignAll": true,
     "mandatory": true,
     "name": "Differentiation and Integration",
     "number": "1)",
     "points": 3
    }
   ],
   "sheet": 4
  }
 },
 "nbformat": 4,
 "nbformat_minor": 2
}
