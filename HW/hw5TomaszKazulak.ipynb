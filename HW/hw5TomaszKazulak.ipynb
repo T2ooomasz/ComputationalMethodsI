{
  "cells": [
    {
      "attachements": {},
      "cell_type": "markdown",
      "metadata": {},
      "source": [
        "# Computational Methods I, Winter 2024&#x2F;25\n\nLecturer: Dr. Falk Hassler, falk.hassler@uwr.edu.pl\\\nLabs: M.Sc. Biplab Mahato, biplab.mahato@uwr.edu.pl\n\n  \n## 5. Ordinary differntial equations\n---\nTo be discussed on 2024-10-25 10:15:00 in the tutorial."
      ]
    },
    {
      "cell_type": "markdown",
      "metadata": {},
      "source": [
        "Differential equations are fundamental to our understanding of physics and many natural phenomena. In this homework, you'll develop your own differential equation solver. To avoid writing the same code again and again we will make the solver general enough to handle many types of differential equations. "
      ]
    },
    {
      "cell_type": "code",
      "execution_count": 1,
      "metadata": {},
      "outputs": [],
      "source": [
        "import numpy as np\n",
        "import matplotlib.pyplot as plt"
      ]
    },
    {
      "cell_type": "markdown",
      "metadata": {},
      "source": [
        "### Question 1: Radioactive decay\n",
        "_(Points: 1.5)_"
      ]
    },
    {
      "cell_type": "markdown",
      "metadata": {},
      "source": [
        "Radioactive decay is a classic example of a first-order differential equation. The rate of decay is proportional to the amount of material present:\n",
        "$$\n",
        "\\frac{dN}{dt} = -\\lambda N\n",
        "$$\n",
        "where $\\lambda$ is the decay constant. \n",
        "Here is a code which implements the Euler method of solving this equation."
      ]
    },
    {
      "cell_type": "code",
      "execution_count": null,
      "metadata": {},
      "outputs": [],
      "source": [
        "def solve_radioactive_decay(decay_constant, initial_concentration, dt, steps):\n",
        "    data = np.zeros(steps)\n",
        "    data[0] = initial_concentration\n",
        "\n",
        "    for i in range(1, steps):\n",
        "        data[i] = data[i - 1]  - decay_constant * data[i - 1] * dt \n",
        "\n",
        "    return data"
      ]
    },
    {
      "cell_type": "markdown",
      "metadata": {},
      "source": [
        "**Q1.1)** Use the above function and plot the solution. Choose some values for initial concentration and decay constant."
      ]
    },
    {
      "cell_type": "code",
      "execution_count": null,
      "metadata": {},
      "outputs": [],
      "source": []
    },
    {
      "cell_type": "markdown",
      "metadata": {},
      "source": [
        "While the above implementation works, it's limited to radioactive decay. Here's a more general Euler method "
      ]
    },
    {
      "cell_type": "code",
      "execution_count": null,
      "metadata": {},
      "outputs": [],
      "source": [
        "def euler_method(func, initial, t_start, t_finish, steps=100, params=[]):\n",
        "    dt = (t_finish - t_start) / steps\n",
        "    data = []\n",
        "    data.append(initial)\n",
        "    for i in range(1, steps):\n",
        "        data.append(data[-1] + dt * func(data[-1], t_start + i*dt, params)) # data[-1] is last element of the data\n",
        "    return np.array(data)"
      ]
    },
    {
      "cell_type": "markdown",
      "metadata": {},
      "source": []
    },
    {
      "cell_type": "markdown",
      "metadata": {},
      "source": [
        "This function is general enough to solve even system of ordinary differential equations. Note that the input function have to be of the form `func(x, t, param)`. And it should return a number or a numpy array (for a system of odes). For example,"
      ]
    },
    {
      "cell_type": "code",
      "execution_count": 8,
      "metadata": {},
      "outputs": [],
      "source": [
        "def radioactive_decay(x, t, params):\n",
        "    decay_constant = params\n",
        "    return -decay_constant"
      ]
    },
    {
      "cell_type": "markdown",
      "metadata": {},
      "source": [
        "**Q1.2)** Check this method works"
      ]
    },
    {
      "cell_type": "markdown",
      "metadata": {},
      "source": [
        "**Q1.3)** Write your own ode solver implementing a different algorithm(other than Euler, e.g. Runge-Kutta) to solve odes."
      ]
    },
    {
      "cell_type": "markdown",
      "metadata": {},
      "source": [
        "**Q1.4)** Plot the solution of radioactive decay in euler method and your method to compare. Use log scale. Plot also the analytical solution, $N = N_0 e^{-\\lambda t}$, where $N_0$ is the initial concentration and $\\lambda$ is the radioactive decay constant."
      ]
    },
    {
      "cell_type": "markdown",
      "metadata": {},
      "source": [
        "### Question 2: System of ODEs\n",
        "_(Points: 1.5)_"
      ]
    },
    {
      "cell_type": "markdown",
      "metadata": {},
      "source": [
        "The code above can also be used to solve system of odes.\n",
        "A famous system of ODEs is the Lorentz system, derived by Edward Lorentz in 1963 to describe atmospheric convection.\n",
        "$$\n",
        "\\frac{dx}{dt} = \\sigma(y- x)\\\\\n",
        "\\frac{dy}{dt} = x(\\rho - z) - y \\\\\n",
        "\\frac{dz}{dt} = xy - \\beta z\n",
        "$$\n",
        "\n",
        "**Q2.1)** Write code to solve the Lorentz system. Find a suitable set of parameters (e.g. $\\sigma = 10.0, \\rho = 21.0 ,\\beta = 8/3$). \n",
        "\n",
        "**Q2.2)** Plot the solution in 3d."
      ]
    },
    {
      "cell_type": "code",
      "execution_count": 36,
      "metadata": {},
      "outputs": [],
      "source": [
        "# Define the Lorenz equations\n",
        "# Hint: state is [x, y, z] and the function below should return np.array([dx/dt, dy/dt, dz/dt])\n",
        "def lorenz(state, t, params):\n",
        "    pass"
      ]
    },
    {
      "cell_type": "markdown",
      "metadata": {},
      "source": [
        "**Bonus Question:** Keep $\\sigma = 10$ and $\\beta=8/3$ and take different values of $\\rho$, above and below $\\rho_c = 24.74$. Solve and plot for these values. Do you find anything interesting? What happend when you change the initial state for values above and below $\\rho_c$?"
      ]
    },
    {
      "cell_type": "markdown",
      "metadata": {},
      "source": [
        "The model shows chaotic behaviour. We will explore chaos in classical systems in upcoming lectures/homeworks."
      ]
    }
  ],
  "metadata": {
    "kernelspec": {
      "display_name": "usr",
      "language": "python",
      "name": "python3"
    },
    "language_info": {
      "codemirror_mode": {
        "name": "ipython",
        "version": 3
      },
      "file_extension": ".py",
      "mimetype": "text/x-python",
      "name": "python",
      "nbconvert_exporter": "python",
      "pygments_lexer": "ipython3",
      "version": "3.12.3"
    }
  },
  "nbformat": 4,
  "nbformat_minor": 2
}