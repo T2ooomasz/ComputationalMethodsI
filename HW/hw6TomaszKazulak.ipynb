{
 "cells": [
  {
   "cell_type": "raw",
   "metadata": {},
   "source": [
    "sheet: 6\n",
    "date: 2024-11-20 10:15:00\n",
    "name: Double Pendulum I\n",
    "problems:\n",
    "  - number: 1)\n",
    "    name: Double Pendulum part I\n",
    "    mandatory: true\n",
    "    assignAll: true\n",
    "    points: 3"
   ]
  },
  {
   "cell_type": "code",
   "execution_count": 1,
   "metadata": {},
   "outputs": [],
   "source": [
    "import numpy as np\n",
    "import matplotlib.pyplot as plt"
   ]
  },
  {
   "attachments": {},
   "cell_type": "markdown",
   "metadata": {},
   "source": [
    "## Pendulum\n",
    "In the previous homework you have solved system of first order differential equations,\n",
    "\n",
    "$$\n",
    "\\frac{dx_i}{dt} = f_i(\\vec x, t, p) \\qquad \\vec x = (x_1, \\cdots, x_N) \\text{ and } p \\text{ list of constants}\n",
    "$$\n",
    "\n",
    "The same method can also be applied to solve second order ordinary differential equations as well by writing them as a system of first order differetial equations. For example, Consider the motion of a pendulum, whose equation of motion is given by\n",
    "\n",
    "$$\n",
    "\\frac{d^2\\theta}{dt^2} = - \\sin(\\theta)\n",
    "$$\n",
    "\n",
    "which can be rewritten as, \n",
    "\n",
    "\\begin{align*}\n",
    "    \\frac{d\\theta}{dt} &= \\omega, \\\\\n",
    "    \\frac{d\\omega}{dt} &= -\\sin(\\theta).\n",
    "\\end{align*}\n",
    "\n",
    "Taking $\\vec x = (\\theta, \\omega)$ one can solve this system.\n",
    "\n",
    "\n",
    "**Q1.1)** Solve for the motion of pendulum for some intial condition and plot $\\theta$ vs $t$ and the phase space $\\theta$ vs $\\omega$. You can either use your ode solver from your previous homework or use the package `scipy`."
   ]
  },
  {
   "cell_type": "code",
   "execution_count": null,
   "metadata": {},
   "outputs": [],
   "source": []
  },
  {
   "attachments": {},
   "cell_type": "markdown",
   "metadata": {},
   "source": [
    "**Bonus Question** : Compare the dynamics with the simple harmonic appximation $\\frac{d^2\\theta}{dt^2} = - \\theta$"
   ]
  },
  {
   "attachments": {},
   "cell_type": "markdown",
   "metadata": {},
   "source": [
    "# Double Pendulum I\n",
    "As discussed in the class, a double pendulum with lengths $l_1=l_2 = 1$ and masses $m_1 = m_2 = 1$ have the following equation of motions,\n",
    "\n",
    "[double pendulum drawing](http://rotations.berkeley.edu/wp-content/uploads/2017/10/double-pendulum.png)\n",
    "\n",
    "\\begin{align*}\n",
    "    \\frac{d\\theta_1}{dt} &= \\omega_1\\\\\n",
    "    \\frac{d\\theta_2}{dt} &= \\omega_2\\\\\n",
    "    \\frac{d\\omega_1}{dt} &= -\\frac{g(2\\sin\\theta_1 - \\cos(\\Delta \\theta)\\sin\\theta_2) + \\cos(\\Delta \\theta)\\sin(\\Delta \\theta)\\omega_1^2 + \\sin(\\Delta\\theta)\\omega_2^2}{1 +\\sin^2(\\Delta\\theta)}\\\\\n",
    "    \\frac{d\\omega_2}{dt} &= \\frac{2g(\\cos(\\Delta\\theta)\\sin\\theta_1 - \\sin\\theta_2) + 2\\sin(\\Delta\\theta)\\omega_1^2 + \\cos(\\Delta\\theta)\\sin(\\Delta\\theta)\\omega_2^2}{1 + \\sin^2(\\Delta\\theta)}\n",
    "\\end{align*}\n",
    "\n",
    "with $\\Delta\\theta = \\theta_1 - \\theta_2$,\n",
    "\n",
    "Q2.1) Write the code to solve for the motion of double pendulum."
   ]
  },
  {
   "cell_type": "code",
   "execution_count": null,
   "metadata": {},
   "outputs": [],
   "source": []
  },
  {
   "attachments": {},
   "cell_type": "markdown",
   "metadata": {},
   "source": [
    "#### Small Displacement\n",
    "\n",
    "First we will look at the case when initial displacement is very small, small enough that we can appoximate $\\sin\\theta$ as $\\theta$. \n",
    "\n",
    "**Q2.2)** Figure out typical angle (in degrees) where small angle approximation ($\\sin\\theta\\approx \\theta$) breaks down."
   ]
  },
  {
   "cell_type": "code",
   "execution_count": null,
   "metadata": {},
   "outputs": [],
   "source": []
  },
  {
   "attachments": {},
   "cell_type": "markdown",
   "metadata": {},
   "source": [
    "**Q2.3)** Take your intial condition of angles such that the appximation holds and intial angular momenta to be zero and plot $\\theta_1(t)$ vs $\\theta_2(t)$."
   ]
  },
  {
   "cell_type": "code",
   "execution_count": null,
   "metadata": {},
   "outputs": [],
   "source": []
  },
  {
   "attachments": {},
   "cell_type": "markdown",
   "metadata": {},
   "source": [
    "The curve that you obtained are known as [Lissajous curve](https://en.wikipedia.org/wiki/Lissajous_curve).\n",
    "\n",
    "\n",
    "**Bonus Question:** Can you use the small angle approximation i.e. $\\sin\\theta\\approx \\theta$, $\\cos\\theta \\approx 1$ and $\\omega_1 \\approx \\omega_2 \\approx 0$ in the equation of motion for double pendulum to derive the parameteric formula given in the wikipedia article.\n",
    "\n",
    "\n",
    "**Q2.4)** Repeat the same task with medium displacement where $\\theta_1$ and $\\theta_2$ are in between $0.5$ and $1$ radian. "
   ]
  },
  {
   "cell_type": "code",
   "execution_count": null,
   "metadata": {},
   "outputs": [],
   "source": []
  },
  {
   "attachments": {},
   "cell_type": "markdown",
   "metadata": {},
   "source": [
    "\n",
    "**Q2.5)** Repeat the same task with large displacements. The resultant plot should look like a brownian motion path. "
   ]
  },
  {
   "cell_type": "code",
   "execution_count": null,
   "metadata": {},
   "outputs": [],
   "source": []
  },
  {
   "attachments": {},
   "cell_type": "markdown",
   "metadata": {},
   "source": [
    "**Q2.6)** Take two double pendula starting from similar intial condition and plot the evolution of $\\theta_2$. What do you see?"
   ]
  }
 ],
 "metadata": {
  "kernelspec": {
   "display_name": "usr",
   "language": "python",
   "name": "python3"
  },
  "language_info": {
   "codemirror_mode": {
    "name": "ipython",
    "version": 3
   },
   "file_extension": ".py",
   "mimetype": "text/x-python",
   "name": "python",
   "nbconvert_exporter": "python",
   "pygments_lexer": "ipython3",
   "version": "3.12.3"
  }
 },
 "nbformat": 4,
 "nbformat_minor": 2
}
