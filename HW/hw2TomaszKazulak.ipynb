{
    "cells": [
        {
            "attachments": {},
            "cell_type": "markdown",
            "metadata": {},
            "source": [
                "# Homework 2\n",
                "---\n",
                "\n",
                "### Question 1: Basic Arithmatic\n",
                "International Space Station orbits the Earth at $400$ km altitude. In an unfortunate turn of event two astronauts are stranded in it since June (Read e.g. [News](https://businessinsider.com.pl/wiadomosci/utkneli-w-kosmosie-osiem-miesiecy-temu-jest-szansa-na-powrot/b1qwl94) for details). Find out how fast they are orbitting the Earth. How much time they take to go around the Earth once? Estimate the total energy of the satellite (kinetic + gravitational) if the mass of the space station is $4.5\\times 10^{5}kg$.\n"
            ]
        },
        {
            "cell_type": "code",
            "execution_count": null,
            "metadata": {},
            "outputs": [],
            "source": [
                "Mass_of_Earth = \n",
                "Gravitational_constant =\n",
                "altitude = #height from surface of the Earth\n",
                "\n",
                "# write the formula here and evaluate.\n",
                "orbital_speed = \n",
                "time_period = \n",
                "kinetic_energy = \n",
                "gravitational_energy = \n",
                "total_energy = "
            ]
        },
        {
            "attachments": {},
            "cell_type": "markdown",
            "metadata": {},
            "source": [
                "Does your answer matches with the actual values? Check [wikipedia](https://en.wikipedia.org/wiki/International_Space_Station)."
            ]
        },
        {
            "attachments": {},
            "cell_type": "markdown",
            "metadata": {},
            "source": [
                "### Question 2: Semi Emperical Mass formula\n",
                "\n",
                "In nuclear physics, there exist a simple formula to approximate the binding energy of an atomic nucleus of atomic number $Z$ and mass number $A$.\n",
                "$$\n",
                "B = a_1 A - a_2 A^{2/3} - a_3 {Z^2\\over A^{1/3}} - a_4 {(A - 2Z)^2\\over A} + {a_5\\over A^{1/2}}\\,,\n",
                "$$\n",
                "where, in units of MeV, the constants are\n",
                "$a_1=15.67$, $a_2=17.23$, $a_3=0.75$, $a_4=93.2$, and\n",
                "$$\n",
                "a_5 = \\left\\lbrace\\begin{array}{ll}\n",
                "      0     &\\quad\\text{if $A$ is odd,} \\\\\n",
                "      12.0  &\\quad\\text{if $A$ and $Z$ are both even,} \\\\\n",
                "      -12.0 &\\quad\\text{if $A$ is even and $Z$ is odd.}\n",
                "      \\end{array}\\right.\n",
                "$$\n",
                " - Write a function which takes $A$ and $Z$ as input and returns the binding energy. What is the binding energy for sodium and chlorine?\n",
                " - Define another function which returns binding energy per nucleon. Which one has higher binding energy per nucleon $Ni^{62}$ or $C^{12}$.\n",
                " - Create a list of atoms with atomic numbers starting from 10 to 100. Assuming neutron number equal to the proton number calculate the binding energy per nucleon for each of the atoms (use loop!). What is the average binding energy per nucleon for all those atoms?\n"
            ]
        },
        {
            "cell_type": "code",
            "execution_count": null,
            "metadata": {},
            "outputs": [],
            "source": [
                "def binding_energy(A, Z):\n",
                "    # your code goes here"
            ]
        },
        {
            "cell_type": "code",
            "execution_count": null,
            "metadata": {},
            "outputs": [],
            "source": [
                "def binding_energy_per_nucleon(A, Z):\n",
                "    # your code goes here"
            ]
        }
    ],
    "metadata": {
        "kernelspec": {
            "display_name": "usr",
            "language": "python",
            "name": "python3"
        },
        "language_info": {
            "codemirror_mode": {
                "name": "ipython",
                "version": 3
            },
            "file_extension": ".py",
            "mimetype": "text/x-python",
            "name": "python",
            "nbconvert_exporter": "python",
            "pygments_lexer": "ipython3",
            "version": "3.12.3"
        },
        "scheduler": {
            "date": "2024-10-11 10:15:00",
            "priorityDate": "2024-10-06 21:00:00",
            "problems": [
                {
                    "assignAll": true,
                    "manditory": true,
                    "name": "Setting up the environment",
                    "number": "1)",
                    "points": 3
                }
            ],
            "sheet": 2
        }
    },
    "nbformat": 4,
    "nbformat_minor": 2
}
