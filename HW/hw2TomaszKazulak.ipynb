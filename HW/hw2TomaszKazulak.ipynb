{
    "cells": [
        {
            "attachments": {},
            "cell_type": "markdown",
            "metadata": {},
            "source": [
                "# Homework 2\n",
                "---\n",
                "\n",
                "### Question 1: Basic Arithmatic\n",
                "International Space Station orbits the Earth at $400$ km altitude. In an unfortunate turn of event two astronauts are stranded in it since June (Read e.g. [News](https://businessinsider.com.pl/wiadomosci/utkneli-w-kosmosie-osiem-miesiecy-temu-jest-szansa-na-powrot/b1qwl94) for details). Find out how fast they are orbitting the Earth. How much time they take to go around the Earth once? Estimate the total energy of the satellite (kinetic + gravitational) if the mass of the space station is $4.5\\times 10^{5}kg$.\n"
            ]
        },
        {
            "cell_type": "code",
            "execution_count": 3,
            "metadata": {},
            "outputs": [],
            "source": [
                "# lets import useful libraries\n",
                "import math as m"
            ]
        },
        {
            "cell_type": "code",
            "execution_count": 37,
            "metadata": {},
            "outputs": [
                {
                    "name": "stdout",
                    "output_type": "stream",
                    "text": [
                        "Raw data:\n",
                        "7661.184055220412\n",
                        "5569.519164858255\n",
                        "13206091753791.783\n",
                        "1854090000000.0\n",
                        "15060181753791.783\n",
                        "\n",
                        "Nice to read:\n",
                        "v = 7.661 km/s\n",
                        "T = 5570 s = 92.825 min\n",
                        "Ek = 13206091753792 J = 13206.09 GJ\n",
                        "Ep = 1854090000000 J = 1854.09 GJ\n",
                        "E = 15060181753792 J = 15060.18 GJ\n"
                    ]
                }
            ],
            "source": [
                "Mass_of_Earth = 5.972e24 # kg\n",
                "Gravitational_constant = 6.6743e-11 # N m^2/kg^2\n",
                "altitude = 420e3 # m - height from surface of the Earth\n",
                "earth_radius = 6_371e3 # m\n",
                "ISS_mass = 4.5e5 #kg\n",
                "gravitational_acceleration = 9.81 # m / s^2\n",
                "\n",
                "# write the formula here and evaluate.\n",
                "orbital_speed = m.sqrt(Gravitational_constant * Mass_of_Earth / (earth_radius + altitude))\n",
                "time_period = 2 * m.pi * (earth_radius + altitude) / orbital_speed\n",
                "kinetic_energy = ISS_mass * orbital_speed * orbital_speed / 2\n",
                "gravitational_energy = ISS_mass * gravitational_acceleration * altitude\n",
                "total_energy = kinetic_energy + gravitational_energy\n",
                "\n",
                "print(\"Raw data:\")\n",
                "print(orbital_speed)\n",
                "print(time_period)\n",
                "print(kinetic_energy)\n",
                "print(gravitational_energy)\n",
                "print(total_energy)\n",
                "\n",
                "print(\"\\nNice to read:\")\n",
                "print(f\"v = {1e-3*orbital_speed:.3f} km/s\")\n",
                "print(f\"T = {time_period:.0f} s = {1/60*time_period:.3f} min\")\n",
                "print(f\"Ek = {kinetic_energy:.0f} J = {1e-9*kinetic_energy:.2f} GJ\")\n",
                "print(f\"Ep = {gravitational_energy:.0f} J = {1e-9*gravitational_energy:.2f} GJ\")\n",
                "print(f\"E = {total_energy:.0f} J = {1e-9*total_energy:.2f} GJ\")"
            ]
        },
        {
            "attachments": {},
            "cell_type": "markdown",
            "metadata": {},
            "source": [
                "Does your answer matches with the actual values? Check [wikipedia](https://en.wikipedia.org/wiki/International_Space_Station)."
            ]
        },
        {
            "attachments": {},
            "cell_type": "markdown",
            "metadata": {},
            "source": [
                "### Question 2: Semi Emperical Mass formula\n",
                "\n",
                "In nuclear physics, there exist a simple formula to approximate the binding energy of an atomic nucleus of atomic number $Z$ and mass number $A$.\n",
                "$$\n",
                "B = a_1 A - a_2 A^{2/3} - a_3 {Z^2\\over A^{1/3}} - a_4 {(A - 2Z)^2\\over A} + {a_5\\over A^{1/2}}\\,,\n",
                "$$\n",
                "where, in units of MeV, the constants are\n",
                "$a_1=15.67$, $a_2=17.23$, $a_3=0.75$, $a_4=93.2$, and\n",
                "$$\n",
                "a_5 = \\left\\lbrace\\begin{array}{ll}\n",
                "      0     &\\quad\\text{if $A$ is odd,} \\\\\n",
                "      12.0  &\\quad\\text{if $A$ and $Z$ are both even,} \\\\\n",
                "      -12.0 &\\quad\\text{if $A$ is even and $Z$ is odd.}\n",
                "      \\end{array}\\right.\n",
                "$$\n",
                " - Write a function which takes $A$ and $Z$ as input and returns the binding energy. What is the binding energy for sodium and chlorine?\n",
                " - Define another function which returns binding energy per nucleon. Which one has higher binding energy per nucleon $Ni^{62}$ or $C^{12}$.\n",
                " - Create a list of atoms with atomic numbers starting from 10 to 100. Assuming neutron number equal to the proton number calculate the binding energy per nucleon for each of the atoms (use loop!). What is the average binding energy per nucleon for all those atoms?\n"
            ]
        },
        {
            "cell_type": "code",
            "execution_count": 69,
            "metadata": {},
            "outputs": [],
            "source": [
                "def binding_energy(A, Z):\n",
                "    # your code goes here\n",
                "\n",
                "    if A & 1: a5=0\n",
                "    elif Z & 1: a5=-12\n",
                "    else: a5=12\n",
                "\n",
                "    return 15.67 * A \\\n",
                "        - 17.23 * pow(A, 2/3) \\\n",
                "        - 0.75 * Z*Z / pow(A, 1/3) \\\n",
                "        - 93.2 * (A - 2 * Z)**2 / A \\\n",
                "        + a5 / m.sqrt(A)"
            ]
        },
        {
            "cell_type": "code",
            "execution_count": 70,
            "metadata": {},
            "outputs": [
                {
                    "name": "stdout",
                    "output_type": "stream",
                    "text": [
                        "binding energy sodium =  -10470.338376929805\n",
                        "binding energy sodium =  -15604.767457888516\n"
                    ]
                }
            ],
            "source": [
                "sodium = {\"A\": 11,\n",
                "          \"Z\": 23}\n",
                "chlorine = {\"A\": 17,\n",
                "            \"Z\": 35}\n",
                "print(\"binding energy sodium = \", binding_energy(sodium[\"A\"], sodium[\"Z\"]))\n",
                "print(\"binding energy sodium = \", binding_energy(chlorine[\"A\"], chlorine[\"Z\"]))"
            ]
        },
        {
            "cell_type": "code",
            "execution_count": 72,
            "metadata": {},
            "outputs": [],
            "source": [
                "def binding_energy_per_nucleon(A, Z):\n",
                "    # your code goes here\n",
                "    return binding_energy(A, Z) / A"
            ]
        },
        {
            "cell_type": "code",
            "execution_count": 81,
            "metadata": {},
            "outputs": [
                {
                    "name": "stdout",
                    "output_type": "stream",
                    "text": [
                        "C12 have higher energy per nucleon by 277.70520516021327\n"
                    ]
                }
            ],
            "source": [
                "Ni62 = {\"A\": 28,\n",
                "        \"Z\": 62}\n",
                "C12 = {\"A\": 6,\n",
                "        \"Z\": 12}\n",
                "E_Ni62 = binding_energy_per_nucleon(Ni62[\"A\"], Ni62[\"Z\"])\n",
                "E_C12 = binding_energy_per_nucleon(C12[\"A\"], C12[\"Z\"])\n",
                "if E_Ni62 > E_C12: W=\"Ni62\" \n",
                "else: W=\"C12\"\n",
                "print(W, \"have higher energy per nucleon by\", abs(E_C12 - E_Ni62))"
            ]
        },
        {
            "cell_type": "markdown",
            "metadata": {},
            "source": [
                "### List"
            ]
        },
        {
            "cell_type": "code",
            "execution_count": 97,
            "metadata": {},
            "outputs": [
                {
                    "name": "stdout",
                    "output_type": "stream",
                    "text": [
                        "average energy =  -103.43964776476065\n"
                    ]
                }
            ],
            "source": [
                "Atoms = []\n",
                "for i in range(10,101):\n",
                "    Atoms.append({\"A\": i,\n",
                "                  \"Z\": i+i,\n",
                "                  \"binding_energy_per_nucleon\":  binding_energy_per_nucleon(i, i+1)})\n",
                "just_energy = [x[\"binding_energy_per_nucleon\"] for x in Atoms]\n",
                "average_energy = sum(just_energy) / len(just_energy)\n",
                "print(\"average energy = \", average_energy)"
            ]
        },
        {
            "cell_type": "markdown",
            "metadata": {},
            "source": [
                "# Bonus - plot"
            ]
        },
        {
            "cell_type": "code",
            "execution_count": 110,
            "metadata": {},
            "outputs": [
                {
                    "data": {
                        "text/plain": [
                            "[<matplotlib.lines.Line2D at 0x28ae6447410>]"
                        ]
                    },
                    "execution_count": 110,
                    "metadata": {},
                    "output_type": "execute_result"
                },
                {
                    "data": {
                        "image/png": "[encoded data removed]",
                        "text/plain": [
                            "<Figure size 640x480 with 1 Axes>"
                        ]
                    },
                    "metadata": {},
                    "output_type": "display_data"
                }
            ],
            "source": [
                "import matplotlib.pyplot as plt\n",
                "plt.plot(just_energy,\"-o\")"
            ]
        },
        {
            "cell_type": "code",
            "execution_count": 111,
            "metadata": {},
            "outputs": [
                {
                    "data": {
                        "text/plain": [
                            "[<matplotlib.lines.Line2D at 0x28ae64bed90>]"
                        ]
                    },
                    "execution_count": 111,
                    "metadata": {},
                    "output_type": "execute_result"
                },
                {
                    "data": {
                        "image/png": "[encoded data removed]",
                        "text/plain": [
                            "<Figure size 640x480 with 1 Axes>"
                        ]
                    },
                    "metadata": {},
                    "output_type": "display_data"
                }
            ],
            "source": [
                "plt.plot([binding_energy(x[\"A\"],  x[\"Z\"]) for x in Atoms])"
            ]
        },
        {
            "cell_type": "markdown",
            "metadata": {},
            "source": []
        }
    ],
    "metadata": {
        "kernelspec": {
            "display_name": "Python 3",
            "language": "python",
            "name": "python3"
        },
        "language_info": {
            "codemirror_mode": {
                "name": "ipython",
                "version": 3
            },
            "file_extension": ".py",
            "mimetype": "text/x-python",
            "name": "python",
            "nbconvert_exporter": "python",
            "pygments_lexer": "ipython3",
            "version": "3.11.1"
        },
        "scheduler": {
            "date": "2024-10-11 10:15:00",
            "priorityDate": "2024-10-06 21:00:00",
            "problems": [
                {
                    "assignAll": true,
                    "manditory": true,
                    "name": "Setting up the environment",
                    "number": "1)",
                    "points": 3
                }
            ],
            "sheet": 2
        }
    },
    "nbformat": 4,
    "nbformat_minor": 2
}
