{
    "cells": [
        {
            "cell_type": "markdown",
            "metadata": {},
            "source": [
                "# Homework 3\n",
                "\n",
                "**PLEASE SUBMIT YOUR SOLUTION AS A SINGLE JUPYTER NOTEBOOK**\n",
                "\n",
                "> Bonus Questions are not mandatory and are not graded. They are only there for the interested ones to play with. "
            ]
        },
        {
            "cell_type": "markdown",
            "metadata": {},
            "source": [
                "## Question 1: Recursion and Plot\n",
                "Recursion is a very powerful tool in numerical algorithms, where one calls the same function inside the definition of the function. It is very important to ensure a stop case. Otherwise your program might go into an infinite loop. For example, a simple recursive function to calculate factorial of a number is as follows"
            ]
        },
        {
            "cell_type": "code",
            "execution_count": null,
            "metadata": {},
            "outputs": [],
            "source": [
                "def factorial_recursive(n):\n",
                "    if n==1: # stop condition !IMPORTANT!\n",
                "        return 1\n",
                "    return n*factorial_recursive(n-1)"
            ]
        },
        {
            "cell_type": "markdown",
            "metadata": {},
            "source": [
                "Write a recursive function to calculate $n^{\\rm th}$ Fibonacci number. Fibonacci numbers $1,1,2,3,5,8, \\cdots$ are defined by the recursion relation $F_{n+2} = F_{n+1} + F_n$. "
            ]
        },
        {
            "cell_type": "code",
            "execution_count": 12,
            "metadata": {},
            "outputs": [
                {
                    "name": "stdout",
                    "output_type": "stream",
                    "text": [
                        "12586269025\n"
                    ]
                }
            ],
            "source": [
                "def fibonacci(n):\n",
                "    #your code here. (remove the line  with `pass`)\n",
                "    if n == 1 or n ==2: return 1\n",
                "    return fibonacci(n-1) + fibonacci(n-2)\n",
                "    \n",
                "\n",
                "def fibonacci_lazy():\n",
                "  a, b = 0, 1\n",
                "  while True:\n",
                "    yield a\n",
                "    a, b = b, a + b\n",
                "\n",
                "def fibonacci_my(n):\n",
                "    fibb = fibonacci_lazy()\n",
                "    for _ in range(n):\n",
                "        next(fibb)\n",
                "    return next(fibb)\n",
                "\n",
                "n = 50\n",
                "#print(fibonacci(n))\n",
                "print(fibonacci_my(n))"
            ]
        },
        {
            "cell_type": "markdown",
            "metadata": {},
            "source": [
                "> **Bonus Question:** This implimentation of fibonacci sequence is not the best. Why? Can you improve it? Hint: read about memoization. That's not a typo :)"
            ]
        },
        {
            "cell_type": "markdown",
            "metadata": {},
            "source": [
                "Choose a number $N$ greater than 5. Collect first $N$ Fibonacci ratios in a list. Fibinacci ration $R_n = \\frac{F_{n+1}}{F_n}$."
            ]
        },
        {
            "cell_type": "code",
            "execution_count": 19,
            "metadata": {},
            "outputs": [],
            "source": [
                "N = 5000\n",
                "fibonacci_ratio_list = [fibonacci_my(x+1)/fibonacci_my(x) for x in range(1,N)] # could do similar lazy valuation as with fibonnaci itself"
            ]
        },
        {
            "cell_type": "markdown",
            "metadata": {},
            "source": [
                "Here I include the code to plot the ratios. They should converge to the dotted line."
            ]
        },
        {
            "cell_type": "code",
            "execution_count": 42,
            "metadata": {},
            "outputs": [
                {
                    "data": {
                        "image/png": "[encoded data removed]",
                        "text/plain": [
                            "<Figure size 640x480 with 1 Axes>"
                        ]
                    },
                    "metadata": {},
                    "output_type": "display_data"
                }
            ],
            "source": [
                "import matplotlib.pyplot as plt\n",
                "import numpy as np\n",
                "plt.plot(fibonacci_ratio_list)\n",
                "plt.axhline(y=(1 + np.sqrt(5))/2, linestyle=\"dotted\")\n",
                "# Google how to add axis labels and add them here. \n",
                "plt.xlabel(\"n\")\n",
                "plt.ylabel(\"R_n\")\n",
                "plt.show()"
            ]
        },
        {
            "cell_type": "markdown",
            "metadata": {},
            "source": [
                "Consider the quadratic equation \n",
                "$$x^2 - x-1 = 0$$\n",
                "One can write the equation in this alternate form $x = 1 + \\frac{1}{x}$ and obtain a recursion relation,\n",
                "$$x_{n+1} = 1 + \\frac{1}{x_n}$$\n",
                "$x_n$ converges to the positive root of the equation. \n",
                "\n",
                "> **Bonus Question:** Why only the positive root? Is it true for more complicated equations e.g. $x^5 + 3x^2 - 4x + 1 = 0$? Can you think of extending this algorithm to find the other real roots as well (if they exist!)?\n",
                "\n",
                "Write a recursive function (with initial guess as the argument ) to implement this. Compare it with the analytical value.\n",
                "Keep track of how the initial value evolves i.e. create a list of $x_i$'s. (hint, modify the previous function to write each value to an array)."
            ]
        },
        {
            "cell_type": "code",
            "execution_count": 21,
            "metadata": {},
            "outputs": [],
            "source": [
                "def recursive_root(initial_guess):\n",
                "    x_n = initial_guess\n",
                "    while True:\n",
                "        yield x_n\n",
                "        x_n = 1 + 1/x_n"
            ]
        },
        {
            "cell_type": "code",
            "execution_count": 37,
            "metadata": {},
            "outputs": [
                {
                    "data": {
                        "text/plain": [
                            "1.618033988749895"
                        ]
                    },
                    "execution_count": 37,
                    "metadata": {},
                    "output_type": "execute_result"
                }
            ],
            "source": [
                "def recursive_root_N(initial_guess, N):\n",
                "    gen = recursive_root(initial_guess)\n",
                "    for _ in range(N):\n",
                "        next(gen)\n",
                "    return next(gen)\n",
                "\n",
                "recursive_root_N(1, 100)"
            ]
        },
        {
            "cell_type": "code",
            "execution_count": 38,
            "metadata": {},
            "outputs": [
                {
                    "name": "stdout",
                    "output_type": "stream",
                    "text": [
                        "[1, 2.0, 1.5, 1.6666666666666665, 1.6, 1.625, 1.6153846153846154, 1.619047619047619, 1.6176470588235294, 1.6181818181818182]\n"
                    ]
                }
            ],
            "source": [
                "def list_recursive_root(initial_guess, N):\n",
                "    gen = recursive_root(initial_guess)\n",
                "    return [next(gen) for _ in range(N)]\n",
                "\n",
                "print(list_recursive_root(1,10))"
            ]
        },
        {
            "cell_type": "code",
            "execution_count": 48,
            "metadata": {},
            "outputs": [],
            "source": [
                "guess = -0.51 # this value will throw an error. Why? Change it to a different value of your choice.\n",
                "# -0.5 throws an error becouse of division by zero\n",
                "N = 100\n",
                "series_root = list_recursive_root(guess, N)"
            ]
        },
        {
            "cell_type": "markdown",
            "metadata": {},
            "source": [
                "plot this along with the previous figure. "
            ]
        },
        {
            "cell_type": "code",
            "execution_count": 49,
            "metadata": {},
            "outputs": [
                {
                    "data": {
                        "image/png": "[encoded data removed]",
                        "text/plain": [
                            "<Figure size 640x480 with 1 Axes>"
                        ]
                    },
                    "metadata": {},
                    "output_type": "display_data"
                }
            ],
            "source": [
                "# plotting code here. Similar to the code above\n",
                "import matplotlib.pyplot as plt\n",
                "import numpy as np\n",
                "plt.plot(series_root)\n",
                "plt.axhline(y=(1 + np.sqrt(5))/2, linestyle=\"dotted\")\n",
                "plt.xlabel(\"n\")\n",
                "plt.ylabel(\"val\")\n",
                "plt.show()"
            ]
        },
        {
            "cell_type": "markdown",
            "metadata": {},
            "source": [
                "The value that both the above lists converge to, is called the golden ratio. Read more about it on Wikipedia. \n",
                "\n",
                "Now that you have mastered plotting, lets plot the golden spiral."
            ]
        },
        {
            "cell_type": "markdown",
            "metadata": {},
            "source": [
                "## Question 2: The power of libraries\n",
                "\n",
                "Write a function, which takes two matrices and return their matrix product by only using plain Python. **No libraries are allowed at this point.**"
            ]
        },
        {
            "cell_type": "code",
            "execution_count": 103,
            "metadata": {},
            "outputs": [],
            "source": [
                "#### your function goes here\n",
                "def matrix_product(A, B):\n",
                "\n",
                "    # requirements\n",
                "    if len(A[0]) != len(B): return -1\n",
                "\n",
                "    def sum(i, j):\n",
                "        res = 0\n",
                "        for k in range(len(A[0])):\n",
                "            res += A[i][k] * B[k][j]\n",
                "        return res\n",
                "\n",
                "    m = len(A) \n",
                "    p = len(B[0])\n",
                "\n",
                "    return [ [ sum(i,j)  for j in range(0,p)] for i in range(0,m) ]\n",
                "\n"
            ]
        },
        {
            "cell_type": "code",
            "execution_count": 104,
            "metadata": {},
            "outputs": [
                {
                    "data": {
                        "text/plain": [
                            "[[5, 2, 0, 6], [-1, 1, -2, 4]]"
                        ]
                    },
                    "execution_count": 104,
                    "metadata": {},
                    "output_type": "execute_result"
                }
            ],
            "source": [
                "A = [[1,-1, 2],[0,-2, 1]]\n",
                "B = [[1,0,1,1],[2,0,1,-1],[3,1,0,2]]\n",
                "matrix_product(A, B)"
            ]
        },
        {
            "cell_type": "markdown",
            "metadata": {},
            "source": [
                "To check if it works fine, you can generate test matrices"
            ]
        },
        {
            "cell_type": "code",
            "execution_count": 78,
            "metadata": {},
            "outputs": [],
            "source": [
                "def testmatrix(n, shift=0):\n",
                "    return [ [ i + shift for i in range((n+1)*j+1,(n+1)*(j+1))] for j in range(0,n) ]"
            ]
        },
        {
            "cell_type": "markdown",
            "metadata": {},
            "source": [
                "like "
            ]
        },
        {
            "cell_type": "code",
            "execution_count": 113,
            "metadata": {},
            "outputs": [
                {
                    "data": {
                        "text/plain": [
                            "[[-1, 8, 17], [-13, 8, 29], [-25, 8, 41]]"
                        ]
                    },
                    "execution_count": 113,
                    "metadata": {},
                    "output_type": "execute_result"
                }
            ],
            "source": [
                "matrix_product(testmatrix(3, 1),testmatrix(3, -6))"
            ]
        },
        {
            "cell_type": "markdown",
            "metadata": {},
            "source": [
                "Finally, your code for different matrices sizes and compare it to the same operation by using the numpy libarary. Plot the timing of both for different sizes of the matrix and explain what you are finding. *Hint: To take the time who long a bit of code needs to be executed, you can use the following code fragment:*"
            ]
        },
        {
            "cell_type": "code",
            "execution_count": 80,
            "metadata": {},
            "outputs": [
                {
                    "name": "stdout",
                    "output_type": "stream",
                    "text": [
                        "Generating of a 100x100 test matrix took 0.0010001659393310547 seconds on your computer\n"
                    ]
                }
            ],
            "source": [
                "import time\n",
                "start_time = time.time()\n",
                "testmatrix(100,1)\n",
                "print(\"Generating of a 100x100 test matrix took %s seconds on your computer\" % (time.time() - start_time))"
            ]
        },
        {
            "cell_type": "code",
            "execution_count": 118,
            "metadata": {},
            "outputs": [
                {
                    "name": "stdout",
                    "output_type": "stream",
                    "text": [
                        "Results are the same!\n"
                    ]
                }
            ],
            "source": [
                "import numpy as np\n",
                "if np.dot(A,B).tolist() == matrix_product(A, B): print(\"Results are the same!\")"
            ]
        },
        {
            "cell_type": "code",
            "execution_count": 139,
            "metadata": {},
            "outputs": [
                {
                    "data": {
                        "image/png": "[encoded data removed]",
                        "text/plain": [
                            "<Figure size 640x480 with 1 Axes>"
                        ]
                    },
                    "metadata": {},
                    "output_type": "display_data"
                }
            ],
            "source": [
                "n = 2\n",
                "N = 150\n",
                "step = 10\n",
                "time_my = []\n",
                "time_np = []\n",
                "for i in range(n, N, step):\n",
                "    \n",
                "    A = testmatrix(i,1)\n",
                "    B = testmatrix(i,1)\n",
                "\n",
                "    start_time = time.time()\n",
                "    matrix_product(A, B)\n",
                "    time_my.append(time.time() - start_time)\n",
                "\n",
                "    start_time = time.time()\n",
                "    np.dot(A, B)\n",
                "    time_np.append(time.time() - start_time)\n",
                "\n",
                "plt.plot(time_my, \"-o\", label=\"my\")\n",
                "plt.plot(time_np, \"-x\", label=\"np\")\n",
                "plt.xlabel(\"NxN matrix\")\n",
                "plt.ylabel(\"time\")\n",
                "plt.legend()\n",
                "plt.show()"
            ]
        }
    ],
    "metadata": {
        "kernelspec": {
            "display_name": "Python 3",
            "language": "python",
            "name": "python3"
        },
        "language_info": {
            "codemirror_mode": {
                "name": "ipython",
                "version": 3
            },
            "file_extension": ".py",
            "mimetype": "text/x-python",
            "name": "python",
            "nbconvert_exporter": "python",
            "pygments_lexer": "ipython3",
            "version": "3.11.1"
        },
        "scheduler": {
            "date": "2024-10-18 09:15:00",
            "priorityDeadline": "2024-10-13 20:00:00",
            "problems": [
                {
                    "assignAll": true,
                    "mandatory": true,
                    "name": "Functions, ploting and libraries",
                    "number": "1)",
                    "points": 3
                }
            ],
            "sheet": 3
        }
    },
    "nbformat": 4,
    "nbformat_minor": 2
}
